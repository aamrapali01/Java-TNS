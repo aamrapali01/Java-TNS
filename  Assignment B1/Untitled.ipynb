{
 "cells": [
  {
   "cell_type": "code",
   "execution_count": 1,
   "id": "f2aa2a7f-75b6-493b-8092-0469506e0444",
   "metadata": {},
   "outputs": [],
   "source": [
    "import pandas as pd"
   ]
  },
  {
   "cell_type": "code",
   "execution_count": 2,
   "id": "6134f690-9762-4e11-a3f0-cd00ac3c92cb",
   "metadata": {},
   "outputs": [],
   "source": [
    "#data = {\"Roll-num\": [10,20,30,40,50,60,70], \"Age\":[12,14,13,12,14,13,15],\"NAME\":['John','Camili','Rheana','Joseph','Amanti','Alexa','Siri']}"
   ]
  },
  {
   "cell_type": "code",
   "execution_count": 3,
   "id": "443939ed-49e1-410b-a763-3d6a0e78af32",
   "metadata": {},
   "outputs": [],
   "source": [
    "data = pd.read_csv('dataset_Facebook.csv')"
   ]
  },
  {
   "cell_type": "code",
   "execution_count": 4,
   "id": "59a4f2a7-b589-451e-abe4-285a6cb082a8",
   "metadata": {},
   "outputs": [],
   "source": [
    "block = pd.DataFrame(data)\n"
   ]
  },
  {
   "cell_type": "code",
   "execution_count": 5,
   "id": "0b845cd9-0c79-4a60-9c75-86cc64dc1506",
   "metadata": {},
   "outputs": [
    {
     "name": "stdout",
     "output_type": "stream",
     "text": [
      "Original Data frame:\n",
      "\n"
     ]
    }
   ],
   "source": [
    "print(\"Original Data frame:\\n\")\n"
   ]
  },
  {
   "cell_type": "code",
   "execution_count": 6,
   "id": "8c1fb894-1f89-4054-8800-f808b856283e",
   "metadata": {},
   "outputs": [
    {
     "name": "stdout",
     "output_type": "stream",
     "text": [
      "     Page total likes    Type  Category  Post Month  Post Weekday  Post Hour  \\\n",
      "0              139441   Photo         2          12             4          3   \n",
      "1              139441  Status         2          12             3         10   \n",
      "2              139441   Photo         3          12             3          3   \n",
      "3              139441   Photo         2          12             2         10   \n",
      "4              139441   Photo         2          12             2          3   \n",
      "..                ...     ...       ...         ...           ...        ...   \n",
      "495             85093   Photo         3           1             7          2   \n",
      "496             81370   Photo         2           1             5          8   \n",
      "497             81370   Photo         1           1             5          2   \n",
      "498             81370   Photo         3           1             4         11   \n",
      "499             81370   Photo         2           1             4          4   \n",
      "\n",
      "     Paid  Lifetime Post Total Reach  Lifetime Post Total Impressions  \\\n",
      "0     0.0                       2752                             5091   \n",
      "1     0.0                      10460                            19057   \n",
      "2     0.0                       2413                             4373   \n",
      "3     1.0                      50128                            87991   \n",
      "4     0.0                       7244                            13594   \n",
      "..    ...                        ...                              ...   \n",
      "495   0.0                       4684                             7536   \n",
      "496   0.0                       3480                             6229   \n",
      "497   0.0                       3778                             7216   \n",
      "498   0.0                       4156                             7564   \n",
      "499   NaN                       4188                             7292   \n",
      "\n",
      "     Lifetime Engaged Users  Lifetime Post Consumers  \\\n",
      "0                       178                      109   \n",
      "1                      1457                     1361   \n",
      "2                       177                      113   \n",
      "3                      2211                      790   \n",
      "4                       671                      410   \n",
      "..                      ...                      ...   \n",
      "495                     733                      708   \n",
      "496                     537                      508   \n",
      "497                     625                      572   \n",
      "498                     626                      574   \n",
      "499                     564                      524   \n",
      "\n",
      "     Lifetime Post Consumptions  \\\n",
      "0                           159   \n",
      "1                          1674   \n",
      "2                           154   \n",
      "3                          1119   \n",
      "4                           580   \n",
      "..                          ...   \n",
      "495                         985   \n",
      "496                         687   \n",
      "497                         795   \n",
      "498                         832   \n",
      "499                         743   \n",
      "\n",
      "     Lifetime Post Impressions by people who have liked your Page  \\\n",
      "0                                                 3078              \n",
      "1                                                11710              \n",
      "2                                                 2812              \n",
      "3                                                61027              \n",
      "4                                                 6228              \n",
      "..                                                 ...              \n",
      "495                                               4750              \n",
      "496                                               3961              \n",
      "497                                               4742              \n",
      "498                                               4534              \n",
      "499                                               3861              \n",
      "\n",
      "     Lifetime Post reach by people who like your Page  \\\n",
      "0                                                1640   \n",
      "1                                                6112   \n",
      "2                                                1503   \n",
      "3                                               32048   \n",
      "4                                                3200   \n",
      "..                                                ...   \n",
      "495                                              2876   \n",
      "496                                              2104   \n",
      "497                                              2388   \n",
      "498                                              2452   \n",
      "499                                              2200   \n",
      "\n",
      "     Lifetime People who have liked your Page and engaged with your post  \\\n",
      "0                                                  119                     \n",
      "1                                                 1108                     \n",
      "2                                                  132                     \n",
      "3                                                 1386                     \n",
      "4                                                  396                     \n",
      "..                                                 ...                     \n",
      "495                                                392                     \n",
      "496                                                301                     \n",
      "497                                                363                     \n",
      "498                                                370                     \n",
      "499                                                316                     \n",
      "\n",
      "     comment    like  share  Total Interactions  \n",
      "0          4    79.0   17.0                 100  \n",
      "1          5   130.0   29.0                 164  \n",
      "2          0    66.0   14.0                  80  \n",
      "3         58  1572.0  147.0                1777  \n",
      "4         19   325.0   49.0                 393  \n",
      "..       ...     ...    ...                 ...  \n",
      "495        5    53.0   26.0                  84  \n",
      "496        0    53.0   22.0                  75  \n",
      "497        4    93.0   18.0                 115  \n",
      "498        7    91.0   38.0                 136  \n",
      "499        0    91.0   28.0                 119  \n",
      "\n",
      "[500 rows x 19 columns]\n"
     ]
    }
   ],
   "source": [
    "print(block)\n"
   ]
  },
  {
   "cell_type": "code",
   "execution_count": 7,
   "id": "d45e185e-f4f1-4f00-b8de-76ea646b0b4d",
   "metadata": {},
   "outputs": [
    {
     "name": "stdout",
     "output_type": "stream",
     "text": [
      "   Page total likes    Type  Category  Post Month  Post Weekday  Post Hour  \\\n",
      "0            139441   Photo         2          12             4          3   \n",
      "1            139441  Status         2          12             3         10   \n",
      "3            139441   Photo         2          12             2         10   \n",
      "\n",
      "   Paid  Lifetime Post Total Reach  Lifetime Post Total Impressions  \\\n",
      "0   0.0                       2752                             5091   \n",
      "1   0.0                      10460                            19057   \n",
      "3   1.0                      50128                            87991   \n",
      "\n",
      "   Lifetime Engaged Users  Lifetime Post Consumers  \\\n",
      "0                     178                      109   \n",
      "1                    1457                     1361   \n",
      "3                    2211                      790   \n",
      "\n",
      "   Lifetime Post Consumptions  \\\n",
      "0                         159   \n",
      "1                        1674   \n",
      "3                        1119   \n",
      "\n",
      "   Lifetime Post Impressions by people who have liked your Page  \\\n",
      "0                                               3078              \n",
      "1                                              11710              \n",
      "3                                              61027              \n",
      "\n",
      "   Lifetime Post reach by people who like your Page  \\\n",
      "0                                              1640   \n",
      "1                                              6112   \n",
      "3                                             32048   \n",
      "\n",
      "   Lifetime People who have liked your Page and engaged with your post  \\\n",
      "0                                                119                     \n",
      "1                                               1108                     \n",
      "3                                               1386                     \n",
      "\n",
      "   comment    like  share  Total Interactions  \n",
      "0        4    79.0   17.0                 100  \n",
      "1        5   130.0   29.0                 164  \n",
      "3       58  1572.0  147.0                1777  \n"
     ]
    }
   ],
   "source": [
    "print(block.loc[[0,1,3]])\n"
   ]
  },
  {
   "cell_type": "code",
   "execution_count": 8,
   "id": "c3d00c05-aaf7-470c-af7d-c3d050835e06",
   "metadata": {},
   "outputs": [
    {
     "name": "stdout",
     "output_type": "stream",
     "text": [
      "   Page total likes    Type  Category  Post Month  Post Weekday  Post Hour  \\\n",
      "0            139441   Photo         2          12             4          3   \n",
      "1            139441  Status         2          12             3         10   \n",
      "2            139441   Photo         3          12             3          3   \n",
      "3            139441   Photo         2          12             2         10   \n",
      "\n",
      "   Paid  Lifetime Post Total Reach  Lifetime Post Total Impressions  \\\n",
      "0   0.0                       2752                             5091   \n",
      "1   0.0                      10460                            19057   \n",
      "2   0.0                       2413                             4373   \n",
      "3   1.0                      50128                            87991   \n",
      "\n",
      "   Lifetime Engaged Users  Lifetime Post Consumers  \\\n",
      "0                     178                      109   \n",
      "1                    1457                     1361   \n",
      "2                     177                      113   \n",
      "3                    2211                      790   \n",
      "\n",
      "   Lifetime Post Consumptions  \\\n",
      "0                         159   \n",
      "1                        1674   \n",
      "2                         154   \n",
      "3                        1119   \n",
      "\n",
      "   Lifetime Post Impressions by people who have liked your Page  \\\n",
      "0                                               3078              \n",
      "1                                              11710              \n",
      "2                                               2812              \n",
      "3                                              61027              \n",
      "\n",
      "   Lifetime Post reach by people who like your Page  \\\n",
      "0                                              1640   \n",
      "1                                              6112   \n",
      "2                                              1503   \n",
      "3                                             32048   \n",
      "\n",
      "   Lifetime People who have liked your Page and engaged with your post  \\\n",
      "0                                                119                     \n",
      "1                                               1108                     \n",
      "2                                                132                     \n",
      "3                                               1386                     \n",
      "\n",
      "   comment    like  share  Total Interactions  \n",
      "0        4    79.0   17.0                 100  \n",
      "1        5   130.0   29.0                 164  \n",
      "2        0    66.0   14.0                  80  \n",
      "3       58  1572.0  147.0                1777  \n"
     ]
    }
   ],
   "source": [
    "print(block.loc[0:3])\n"
   ]
  },
  {
   "cell_type": "code",
   "execution_count": 9,
   "id": "e9c22470-01ed-4b05-ba86-c698b7843e16",
   "metadata": {},
   "outputs": [],
   "source": [
    "#print(block.loc[0:2,['Age','NAME']])\n"
   ]
  },
  {
   "cell_type": "code",
   "execution_count": 10,
   "id": "094ad678-53ef-4124-8f75-cce91bfc3b89",
   "metadata": {},
   "outputs": [
    {
     "name": "stdout",
     "output_type": "stream",
     "text": [
      "     Type   like\n",
      "0   Photo   79.0\n",
      "1  Status  130.0\n",
      "2   Photo   66.0\n"
     ]
    }
   ],
   "source": [
    "print(block.loc[0:2,['Type','like']])\n"
   ]
  },
  {
   "cell_type": "code",
   "execution_count": 11,
   "id": "a531bc79-9aa7-454e-b9e1-536272a4840c",
   "metadata": {},
   "outputs": [
    {
     "name": "stdout",
     "output_type": "stream",
     "text": [
      "   Page total likes  Category\n",
      "0            139441         2\n",
      "1            139441         2\n",
      "3            139441         2\n",
      "6            139441         3\n"
     ]
    }
   ],
   "source": [
    "print(block.iloc[[0,1,3,6],[0,2]])"
   ]
  },
  {
   "cell_type": "code",
   "execution_count": 12,
   "id": "19916427-01a1-4fec-a312-4f9e9394f877",
   "metadata": {},
   "outputs": [],
   "source": [
    "import pandas as pd\n"
   ]
  },
  {
   "cell_type": "code",
   "execution_count": 13,
   "id": "ff5d7be9-e75f-4464-914f-b3b6df7225db",
   "metadata": {},
   "outputs": [],
   "source": [
    "d1 = {'Name': ['Pankaj', 'Meghna', 'Lisa'], 'Country': ['India', 'India', 'USA'], 'Role': ['CEO','CTO', 'CTO']}\n"
   ]
  },
  {
   "cell_type": "code",
   "execution_count": 14,
   "id": "1a6e57d0-dbf1-4885-bbff-ef22f133167f",
   "metadata": {},
   "outputs": [],
   "source": [
    "df1 = pd.DataFrame(d1)\n"
   ]
  },
  {
   "cell_type": "code",
   "execution_count": 15,
   "id": "7eba2b4c-5afd-4df9-9dfb-2f4ec14bfbbd",
   "metadata": {},
   "outputs": [
    {
     "name": "stdout",
     "output_type": "stream",
     "text": [
      "DataFrame 1:\n",
      "      Name Country Role\n",
      "0  Pankaj   India  CEO\n",
      "1  Meghna   India  CTO\n",
      "2    Lisa     USA  CTO\n"
     ]
    }
   ],
   "source": [
    "print('DataFrame 1:\\n', df1)\n"
   ]
  },
  {
   "cell_type": "code",
   "execution_count": 16,
   "id": "e572f6a3-cca5-4956-a314-6e2a3d126ba6",
   "metadata": {},
   "outputs": [],
   "source": [
    "df2 = pd.DataFrame({'ID': [1, 2, 3], 'Name': ['Pankaj', 'Anupam', 'Amit']})\n"
   ]
  },
  {
   "cell_type": "code",
   "execution_count": 17,
   "id": "f44aec0c-232a-4cac-b9a6-93d6808a4c70",
   "metadata": {},
   "outputs": [
    {
     "name": "stdout",
     "output_type": "stream",
     "text": [
      "DataFrame 2:\n",
      "    ID    Name\n",
      "0   1  Pankaj\n",
      "1   2  Anupam\n",
      "2   3    Amit\n"
     ]
    }
   ],
   "source": [
    "print('DataFrame 2:\\n', df2)\n"
   ]
  },
  {
   "cell_type": "code",
   "execution_count": 18,
   "id": "b63262fd-5959-4b29-b459-9121a2d462bd",
   "metadata": {},
   "outputs": [],
   "source": [
    "df_merged = df1.merge(df2)\n"
   ]
  },
  {
   "cell_type": "code",
   "execution_count": 19,
   "id": "3a43c049-5706-43f3-8c6c-50e14d528ee3",
   "metadata": {},
   "outputs": [
    {
     "name": "stdout",
     "output_type": "stream",
     "text": [
      "Result Inner Join:\n",
      "      Name Country Role  ID\n",
      "0  Pankaj   India  CEO   1\n"
     ]
    }
   ],
   "source": [
    "print('Result Inner Join:\\n', df_merged)\n"
   ]
  },
  {
   "cell_type": "code",
   "execution_count": 20,
   "id": "c829c1bd-8206-4d7d-ab96-4d92059d50f5",
   "metadata": {},
   "outputs": [
    {
     "name": "stdout",
     "output_type": "stream",
     "text": [
      "Result Left Join:\n",
      "      Name Country Role   ID\n",
      "0  Pankaj   India  CEO  1.0\n",
      "1  Meghna   India  CTO  NaN\n",
      "2    Lisa     USA  CTO  NaN\n"
     ]
    }
   ],
   "source": [
    "print('Result Left Join:\\n', df1.merge(df2, how='left'))\n"
   ]
  },
  {
   "cell_type": "code",
   "execution_count": 21,
   "id": "d4d94c47-dfb0-4465-927b-a3566e0ec9ef",
   "metadata": {},
   "outputs": [
    {
     "name": "stdout",
     "output_type": "stream",
     "text": [
      "Result Right Join:\n",
      "      Name Country Role  ID\n",
      "0  Pankaj   India  CEO   1\n",
      "1  Anupam     NaN  NaN   2\n",
      "2    Amit     NaN  NaN   3\n"
     ]
    }
   ],
   "source": [
    "print('Result Right Join:\\n', df1.merge(df2, how='right'))\n"
   ]
  },
  {
   "cell_type": "code",
   "execution_count": 22,
   "id": "ac81833f-ffbc-4222-829f-da6a7fcb0a72",
   "metadata": {},
   "outputs": [
    {
     "name": "stdout",
     "output_type": "stream",
     "text": [
      "Result Outer Join:\n",
      "      Name Country Role   ID\n",
      "0  Pankaj   India  CEO  1.0\n",
      "1  Meghna   India  CTO  NaN\n",
      "2    Lisa     USA  CTO  NaN\n",
      "3  Anupam     NaN  NaN  2.0\n",
      "4    Amit     NaN  NaN  3.0\n"
     ]
    }
   ],
   "source": [
    "print('Result Outer Join:\\n', df1.merge(df2, how='outer'))"
   ]
  },
  {
   "cell_type": "code",
   "execution_count": 23,
   "id": "d5918404-6488-4393-9425-7f75dc367924",
   "metadata": {},
   "outputs": [],
   "source": [
    "import pandas as pd"
   ]
  },
  {
   "cell_type": "code",
   "execution_count": 25,
   "id": "5cb53e19-eb9e-403a-a572-c6178a4290ff",
   "metadata": {},
   "outputs": [],
   "source": [
    "# assign dataset\n",
    "csvData = pd.read_csv(\"records.csv\")\n"
   ]
  },
  {
   "cell_type": "code",
   "execution_count": 27,
   "id": "38d7359b-8ef6-401a-a057-8c82c445a87b",
   "metadata": {},
   "outputs": [
    {
     "name": "stdout",
     "output_type": "stream",
     "text": [
      "\n",
      "Before sorting:\n"
     ]
    }
   ],
   "source": [
    "# displaying unsorted data frame\n",
    "print(\"\\nBefore sorting:\")\n"
   ]
  },
  {
   "cell_type": "code",
   "execution_count": 28,
   "id": "1d135649-97c7-4d1c-b6ca-918e2766e490",
   "metadata": {},
   "outputs": [
    {
     "name": "stdout",
     "output_type": "stream",
     "text": [
      "   ID    Name    Role  Salary\n",
      "3   4     Ram  Author    4000\n",
      "4   5  Anupam  Author    5000\n",
      "2   3   David  Author    6000\n",
      "1   2    Lisa  Editor    8000\n",
      "0   1  Pankaj  Editor   10000\n"
     ]
    }
   ],
   "source": [
    "print(csvData)\n"
   ]
  },
  {
   "cell_type": "code",
   "execution_count": 29,
   "id": "51c17345-4e16-4ae9-ab1a-3229e782c0c4",
   "metadata": {},
   "outputs": [],
   "source": [
    "# sort data frame\n",
    "#csvData.sort_values([\"Salary\"], axis=0, ascending=[False], inplace=True)\n",
    "csvData.sort_values([\"Salary\"],axis=0, ascending=[True], inplace=True)\n"
   ]
  },
  {
   "cell_type": "code",
   "execution_count": 30,
   "id": "76b840ee-5bc0-4260-bba4-5485e136e54b",
   "metadata": {},
   "outputs": [
    {
     "name": "stdout",
     "output_type": "stream",
     "text": [
      "\n",
      "After sorting:\n"
     ]
    }
   ],
   "source": [
    "# displaying sorted data frame\n",
    "print(\"\\nAfter sorting:\")\n"
   ]
  },
  {
   "cell_type": "code",
   "execution_count": 31,
   "id": "201d0b11-976a-4557-a900-5fdfcf05fd66",
   "metadata": {},
   "outputs": [
    {
     "name": "stdout",
     "output_type": "stream",
     "text": [
      "   ID    Name    Role  Salary\n",
      "3   4     Ram  Author    4000\n",
      "4   5  Anupam  Author    5000\n",
      "2   3   David  Author    6000\n",
      "1   2    Lisa  Editor    8000\n",
      "0   1  Pankaj  Editor   10000\n"
     ]
    }
   ],
   "source": [
    "print(csvData)\n"
   ]
  },
  {
   "cell_type": "code",
   "execution_count": 32,
   "id": "eb460fd3-8ed7-4cb7-9809-b5d91022bc44",
   "metadata": {},
   "outputs": [],
   "source": [
    "#Transpose\n",
    "import pandas as pd\n"
   ]
  },
  {
   "cell_type": "code",
   "execution_count": 33,
   "id": "b480a44a-8a1b-4d83-a8e2-36a734798d0e",
   "metadata": {},
   "outputs": [],
   "source": [
    "df = pd.read_csv('records.csv')\n"
   ]
  },
  {
   "cell_type": "code",
   "execution_count": 34,
   "id": "602ca467-c701-4ca4-a6a2-94aef4fca3cd",
   "metadata": {},
   "outputs": [
    {
     "name": "stdout",
     "output_type": "stream",
     "text": [
      "   ID    Name    Role  Salary\n",
      "0   1  Pankaj  Editor   10000\n",
      "1   2    Lisa  Editor    8000\n",
      "2   3   David  Author    6000\n",
      "3   4     Ram  Author    4000\n",
      "4   5  Anupam  Author    5000\n"
     ]
    }
   ],
   "source": [
    "print(df)\n"
   ]
  },
  {
   "cell_type": "code",
   "execution_count": 35,
   "id": "ce70a4f7-e485-4f2e-98b7-edf0c881bf7b",
   "metadata": {},
   "outputs": [
    {
     "name": "stdout",
     "output_type": "stream",
     "text": [
      "             0       1       2       3       4\n",
      "ID           1       2       3       4       5\n",
      "Name    Pankaj    Lisa   David     Ram  Anupam\n",
      "Role    Editor  Editor  Author  Author  Author\n",
      "Salary   10000    8000    6000    4000    5000\n"
     ]
    }
   ],
   "source": [
    "print(df.T)\n"
   ]
  },
  {
   "cell_type": "code",
   "execution_count": 36,
   "id": "8b756974-2c4b-4ac3-971f-3ea4d8b7d3fa",
   "metadata": {},
   "outputs": [
    {
     "name": "stdout",
     "output_type": "stream",
     "text": [
      "(5, 4)\n"
     ]
    }
   ],
   "source": [
    "print(df.shape)\n"
   ]
  },
  {
   "cell_type": "code",
   "execution_count": 37,
   "id": "a4172702-b78f-45f3-bf3a-f64279d880c5",
   "metadata": {},
   "outputs": [
    {
     "name": "stdout",
     "output_type": "stream",
     "text": [
      "20\n"
     ]
    }
   ],
   "source": [
    "print(df.size)"
   ]
  },
  {
   "cell_type": "code",
   "execution_count": 38,
   "id": "18cbd3a1-25aa-4005-86d0-bcc6edcd6021",
   "metadata": {},
   "outputs": [],
   "source": [
    "#Shap\n",
    "import pandas as pd\n"
   ]
  },
  {
   "cell_type": "code",
   "execution_count": 39,
   "id": "94a472c9-d9f5-4369-9cd6-d17559e21bca",
   "metadata": {},
   "outputs": [],
   "source": [
    "df = pd.read_csv('records.csv')\n"
   ]
  },
  {
   "cell_type": "code",
   "execution_count": 41,
   "id": "793353d8-2a0a-4de0-a8e9-ad05334654d7",
   "metadata": {},
   "outputs": [
    {
     "name": "stdout",
     "output_type": "stream",
     "text": [
      "   ID    Name    Role  Salary\n",
      "0   1  Pankaj  Editor   10000\n",
      "1   2    Lisa  Editor    8000\n",
      "2   3   David  Author    6000\n",
      "3   4     Ram  Author    4000\n",
      "4   5  Anupam  Author    5000\n"
     ]
    }
   ],
   "source": [
    "print(df)\n"
   ]
  },
  {
   "cell_type": "code",
   "execution_count": 42,
   "id": "36c18a1f-3358-40ea-b4b5-8ce9224721c4",
   "metadata": {},
   "outputs": [
    {
     "name": "stdout",
     "output_type": "stream",
     "text": [
      "(5, 4)\n"
     ]
    }
   ],
   "source": [
    "print(df.shape)\n"
   ]
  },
  {
   "cell_type": "code",
   "execution_count": 43,
   "id": "6cb8bed5-c179-4394-bd78-8ceb968c800f",
   "metadata": {},
   "outputs": [
    {
     "name": "stdout",
     "output_type": "stream",
     "text": [
      "20\n"
     ]
    }
   ],
   "source": [
    "print(df.size)"
   ]
  },
  {
   "cell_type": "code",
   "execution_count": null,
   "id": "e2552c0f-2044-4471-b84c-60f6de502319",
   "metadata": {},
   "outputs": [],
   "source": []
  }
 ],
 "metadata": {
  "kernelspec": {
   "display_name": "Python 3 (ipykernel)",
   "language": "python",
   "name": "python3"
  },
  "language_info": {
   "codemirror_mode": {
    "name": "ipython",
    "version": 3
   },
   "file_extension": ".py",
   "mimetype": "text/x-python",
   "name": "python",
   "nbconvert_exporter": "python",
   "pygments_lexer": "ipython3",
   "version": "3.11.7"
  }
 },
 "nbformat": 4,
 "nbformat_minor": 5
}
